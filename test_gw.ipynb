{
 "cells": [
  {
   "cell_type": "markdown",
   "metadata": {},
   "source": [
    "# Example RL simulations on GridWorld Environments:\n",
    "* Agents tested:\n",
    "    * SARSA\n",
    "    * Actor-Critic\n",
    "    * Successor Representation\n",
    "* Available Environments\n",
    "    * Open-gridworld"
   ]
  },
  {
   "cell_type": "code",
   "execution_count": 1,
   "metadata": {},
   "outputs": [],
   "source": [
    "import numpy as np\n",
    "import matplotlib.pyplot as plt\n",
    "import matplotlib.gridspec as gridspec\n",
    "from mpl_toolkits.axes_grid1 import make_axes_locatable\n",
    "import scipy as sp\n",
    "import networkx as nx\n",
    "import random\n",
    "\n",
    "%matplotlib inline\n",
    "\n",
    "from matplotlib import rc\n",
    "plt.rcParams['font.size'] = '13'\n",
    "plt.rcParams.update({'font.family':'sans-serif'})"
   ]
  },
  {
   "cell_type": "code",
   "execution_count": 2,
   "metadata": {},
   "outputs": [],
   "source": [
    "from environments import GridEnvGenerator\n",
    "from agents import SARSA_agent, SingleActorCritic"
   ]
  },
  {
   "cell_type": "code",
   "execution_count": 3,
   "metadata": {},
   "outputs": [],
   "source": [
    "def run_sim(env, agent, n_episodes, n_steps):\n",
    "    \n",
    "    cs = (0,0)\n",
    "    ns = (0,0)\n",
    "    action = 0\n",
    "    \n",
    "    state_visits = np.zeros((grid_size, grid_size))\n",
    "    episodic_error = []\n",
    "    experiences = []\n",
    "    \n",
    "    cs_st = 0\n",
    "    td_v = 0\n",
    "\n",
    "    for ep in range(n_episodes):\n",
    "        cs = (0,0)\n",
    "        for k in range(n_steps):\n",
    "            \n",
    "            # initial action and next state reward sampling\n",
    "            action = agent.sample_action(agent.tA[cs_st, :], beta)\n",
    "            ns, reward, t_flag = env.get_next_state(cs, action)\n",
    "            state_visits[cs[0],cs[1]] += 1\n",
    "\n",
    "            # mapping graph id to state\n",
    "            ns_st = env.node2state(ns)\n",
    "            cs_st = env.node2state(cs)\n",
    "            \n",
    "            # sampling next action\n",
    "            next_action = agent.sample_action(agent.tA[ns_st, :], beta)\n",
    "\n",
    "            # updating value functions\n",
    "            if (k > 1) and t_flag == False:\n",
    "                experiences.append([cs_st, action, ns_st, next_action, reward, t_flag, ep])\n",
    "                td_v = agent.update_td(experiences[-1])\n",
    "\n",
    "            if t_flag == True:\n",
    "                experiences.append([cs_st, action, ns_st, next_action, reward, t_flag, ep])\n",
    "                td_v = agent.update_td(experiences[-1])\n",
    "                episodic_error.append(np.mean(np.abs(td_v)))\n",
    "                break\n",
    "\n",
    "            cs = ns\n",
    "        \n",
    "    return experiences, episodic_error, state_visits"
   ]
  },
  {
   "cell_type": "code",
   "execution_count": 4,
   "metadata": {},
   "outputs": [
    {
     "data": {
      "image/png": "[encoded data removed]",
      "text/plain": [
       "<Figure size 216x216 with 1 Axes>"
      ]
     },
     "metadata": {},
     "output_type": "display_data"
    }
   ],
   "source": [
    "grid_size = 5\n",
    "env = GridEnvGenerator(grid_size)\n",
    "env.generate_open_gridworld()\n",
    "env.pun = [(0,4), 0]\n",
    "env.rwd = [(4,4), 10]\n",
    "env.paint_nodes([3,3])"
   ]
  },
  {
   "cell_type": "code",
   "execution_count": 5,
   "metadata": {},
   "outputs": [],
   "source": [
    "n_episodes = 20000\n",
    "n_steps = 70"
   ]
  },
  {
   "cell_type": "code",
   "execution_count": null,
   "metadata": {},
   "outputs": [],
   "source": [
    "node_list = list(env.G.nodes)\n",
    "mSize = len(node_list)\n",
    "n_actions = 4\n",
    "gamma = 0.7\n",
    "alpha = 0.01\n",
    "beta = 0.7\n",
    "\n",
    "sar = SARSA_agent(mSize, n_actions, alpha, gamma, beta)\n",
    "xp, err, sv = run_sim(env, sar, n_episodes, n_steps)"
   ]
  },
  {
   "cell_type": "code",
   "execution_count": null,
   "metadata": {},
   "outputs": [],
   "source": [
    "plt.imshow(sar.get_V())\n",
    "plt.colorbar()"
   ]
  },
  {
   "cell_type": "code",
   "execution_count": null,
   "metadata": {},
   "outputs": [],
   "source": [
    "plt.plot(err)"
   ]
  },
  {
   "cell_type": "code",
   "execution_count": null,
   "metadata": {},
   "outputs": [],
   "source": [
    "divider = []\n",
    "cax = []\n",
    "im = []\n",
    "fig, ax = plt.subplots(1,4, figsize=(20,20))\n",
    "ax[0].set_title('up')\n",
    "ax[1].set_title('down')\n",
    "ax[2].set_title('left')\n",
    "ax[3].set_title('right ')\n",
    "for i in range(4):\n",
    "    im = ax[i].imshow(np.reshape(sar.tA[:,i], [grid_size, grid_size]))\n",
    "plt.show()"
   ]
  },
  {
   "cell_type": "markdown",
   "metadata": {},
   "source": [
    "# SAC"
   ]
  },
  {
   "cell_type": "code",
   "execution_count": null,
   "metadata": {},
   "outputs": [],
   "source": [
    "node_list = list(env.G.nodes)\n",
    "mSize = len(node_list)\n",
    "n_actions = 4\n",
    "gamma = 0.6\n",
    "alpha = [0.01, 0.01]\n",
    "beta = 5\n",
    "\n",
    "sac = SingleActorCritic(mSize, n_actions, alpha, gamma, beta)\n",
    "xp, err, sv = run_sim(env, sac, n_episodes, n_steps)"
   ]
  },
  {
   "cell_type": "code",
   "execution_count": null,
   "metadata": {},
   "outputs": [],
   "source": [
    "plt.imshow(sac.get_V())\n",
    "plt.colorbar()"
   ]
  },
  {
   "cell_type": "code",
   "execution_count": null,
   "metadata": {},
   "outputs": [],
   "source": [
    "plt.plot(err)"
   ]
  },
  {
   "cell_type": "code",
   "execution_count": null,
   "metadata": {},
   "outputs": [],
   "source": [
    "fig, ax = plt.subplots(1,4, figsize=(15,15))\n",
    "\n",
    "ax[0].imshow(np.reshape(mac.tA[:,0], [grid_size, grid_size]))\n",
    "ax[0].set_title('up')\n",
    "ax[1].imshow(np.reshape(mac.tA[:,1], [grid_size, grid_size]))\n",
    "ax[1].set_title('down')\n",
    "ax[2].imshow(np.reshape(mac.tA[:,2], [grid_size, grid_size]))\n",
    "ax[2].set_title('left')\n",
    "ax[3].imshow(np.reshape(mac.tA[:,3], [grid_size, grid_size]))\n",
    "ax[3].set_title('right')\n",
    "plt.show()"
   ]
  },
  {
   "cell_type": "code",
   "execution_count": null,
   "metadata": {},
   "outputs": [],
   "source": []
  }
 ],
 "metadata": {
  "kernelspec": {
   "display_name": "Python 3.6.7 64-bit ('py36': conda)",
   "language": "python",
   "name": "python36764bitpy36conda15010154279947619213e5fcadee6bf3"
  },
  "language_info": {
   "codemirror_mode": {
    "name": "ipython",
    "version": 3
   },
   "file_extension": ".py",
   "mimetype": "text/x-python",
   "name": "python",
   "nbconvert_exporter": "python",
   "pygments_lexer": "ipython3",
   "version": "3.6.10"
  }
 },
 "nbformat": 4,
 "nbformat_minor": 4
}
